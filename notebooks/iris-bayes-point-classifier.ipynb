{
 "cells": [
  {
   "cell_type": "markdown",
   "metadata": {},
   "source": [
    "# Basic Classifier using InferDotNet"
   ]
  },
  {
   "cell_type": "markdown",
   "metadata": {},
   "source": [
    "## Introduction"
   ]
  },
  {
   "cell_type": "markdown",
   "metadata": {},
   "source": [
    "This notebook looks at building a `1-feature` probabilistic classifier - a.k.a. a Bayes point machine. Whilst reading the <a href='https://mbmlbook.com/EmailClassifier_A_model_for_classification.html'>Model Based Machine Learning</a> ebook by <a href=\"https://www.microsoft.com/en-us/research/people/jwinn/?from=http%3A%2F%2Fresearch.microsoft.com%2Fen-us%2Fpeople%2Fjwinn%2F\">John Winn</a> et al. from <a href=\"https://www.microsoft.com/en-us/research/\">Microsoft Reseach</a> I found it very confusing diving right into the model based machine learning approach and was looking for a way to tie MBML with traditional ML - this notebook is the result."
   ]
  },
  {
   "cell_type": "markdown",
   "metadata": {},
   "source": [
    "Although the <a href=\"https://mbmlbook.com/index.html\">MBML book</a> is a brilliant book, the first 3 chapters cover very probabilistic approaches to solving problem - as it should, as that is what the book is all about 😅.\n",
    "\n",
    "However, coming from traditional machine learning I was glad to see that in Chapter 4 they build a binary classifier, albeit in a probabilistic fashion. The MBML book uses <a href=\"https://en.wikipedia.org/wiki/Factor_graph#:~:text=A%20factor%20graph%20is%20a,the%20factorization%20of%20a%20function.&text=Factor%20graphs%20generalize%20constraint%20graphs,where%20all%20factors%20are%20constraints.\">factor graphs</a> across the board - if you're not yet aquited with factor graphs, the TLDR from  <a href=\"https://en.wikipedia.org/wiki/Factor_graph#:~:text=A%20factor%20graph%20is%20a,the%20factorization%20of%20a%20function.&text=Factor%20graphs%20generalize%20constraint%20graphs,where%20all%20factors%20are%20constraints.\">wikipedia</a>:\n",
    "\n",
    "> A factor graph is a bipartite graph representing the factorization of a function. Given a factorization of a function $g$,\n",
    "> $$g(X_1,X_2,\\dots,X_n) = \\prod_{j=1}^m f_j(S_j),$$\n",
    "> where ${\\displaystyle S_{j}\\subseteq \\{X_{1},X_{2},\\dots ,X_{n}\\}}$, the corresponding factor graph ${\\displaystyle G=(X,F,E)}$ consists of variable vertices ${\\displaystyle X=\\{X_{1},X_{2},\\dots ,X_{n}\\}}$, factor vertices ${\\displaystyle F=\\{f_{1},f_{2},\\dots ,f_{m}\\}}$, and edges ${\\displaystyle E}$. The edges depend on the factorization as follows: there is an undirected edge between factor vertex ${\\displaystyle f_{j}}$ and variable vertex ${\\displaystyle X_{k}}$  iff ${\\displaystyle X_{k}\\in S_{j}}$.\n",
    "\n",
    "In other words, factor graphs are a way to factorize functions, and factor graphs as used in MBML specifically where $g(X_1,X_2,\\dots,X_n)$ is a joint distribution or a joint likelihood function, and the factorization depends on the conditional independencies among the variables. These factor graphs can be solved using various algorithms like Belief propagation, also known as sum-product message passing, and a go-to platform to perform these calculations is C#'s dotnet using the Microsoft funded inferDotNet package. "
   ]
  },
  {
   "cell_type": "markdown",
   "metadata": {},
   "source": [
    "### The Setup"
   ]
  },
  {
   "cell_type": "markdown",
   "metadata": {},
   "source": [
    "This notebook duplicates the concepts in chapter 4 of MBML, which is titled: `Uncluttering Your Inbox` and is all about building a classifier that can classify whether a person is going to reply to an email or not, and then using this classifier to, well, uncluttering your inbox. The chapter starts off by building a naive 1 feature classifier with the following factor graph:\n",
    "\n",
    "\n",
    "<p align=\"center\">\n",
    "    <img src='assets/email-classifier.jpg' width='300px'>\n",
    "</p>\n",
    "\n",
    "The factor graph translates into the following. We've got some `featureValue` that we observe (that's why it is grayed out - it's \"observed\") which is our feature value, i.e. $X_1$. Then we create a random variable called score, calculated as $score = featureValue \\times weight$, i.e. $y=w\\times x_1$. After that it gets a bit funky. We are trying to build a classifier, in other words, we want to \"learn\" some mapping, $f(X)$, that will produce a value (score) when we pass our feature value(s) $x_1$ through. We whould then like to determine a threshold for that score to say whether our feature value(s) comes from one class or the other. The most basic classifier to do this job is Logistic Regression. Here we assume a mapping from $x$ to $y$ as\n",
    "\n",
    "$${\\displaystyle y={\\begin{cases}1&\\beta _{0}+\\beta _{1}x+\\varepsilon >0\\\\0&{\\text{else}}\\end{cases}}}$$\n",
    "\n",
    "where $\\beta_0$ and $\\beta_1$ are parameters that we will estimate in our training process and $\\epsilon$ is the standard error term. This is basically what this factor graph is trying to do, build a similiar classifier, although in a very different approach - the Model Based Machine Learning approach. From the <a href=\"https://mbmlbook.com/EmailClassifier_A_model_for_classification.html\">MBML book</a>:\n",
    "\n",
    "\n",
    "> You may be surprised to learn that many classification algorithms can be interpreted as doing approximate inference in some probabilistic model. So rather than running a classification algorithm, we can instead build the corresponding model and use an inference algorithm to do classification. Why would we do this instead of using the classification algorithm? Because a model-based approach to classification gives us several benefits:\n",
    "> * The assumptions in the classifier are made explicit. This helps us to understand what the classifier is doing, which can allow us to improve how we use it to achieve better prediction accuracy.\n",
    "> * We can modify the model to improve its accuracy or give it new capabilities, beyond those of the original classifier.\n",
    "> * We can use standard inference algorithms both to train the model and to make predictions with it. This is particularly useful when modifying the model, since the training and prediction algorithms remain in sync with the modified model.\n",
    "\n",
    "\n",
    "They MBML book does come with code snippets, however most of the time it is very objectified code, which doesn't really help to learn the basics of inferDotNet, you can see <a href='https://github.com/dotnet/mbmlbook/blob/master/src/4.%20Uncluttering%20Your%20Inbox/Models/OneFeatureModel.cs'>here</a>.\n",
    "\n",
    "So instead of using their code, this repo looks at creating the above factor graph, but instead of classifying whether an email is replied to or not, we dumb it down even further and aim to classify flowers from the Iris dataset as Setosa or Virginica using their sepal length attribute. If you haven't used the Iris dataset before, it consists of 150 flower oberservations for three different Iris species: Setosa, Versicolor and Virginica with their associated attributes: sepal length, sepal width, petal length and petalwidth. Here we are only using the Setosa and Verginica species and their sepal length attribute that is disibtrubed as \n",
    "\n",
    "<p align=\"center\">\n",
    "    <img src='assets/sepal-length-dist.jpg' width='70%'>\n",
    "</p>\n",
    "\n",
    "So our factor graph looks like this:\n",
    "\n",
    "<p align=\"center\">\n",
    "    <img src='assets/iris-classifier.jpg' width='300px'>\n",
    "</p>\n",
    "\n",
    "So what is happening here? Model based machine learning is all about *assumptions*. The assumptions chapter 4 makes to create this factor graph is:\n",
    "\n",
    "1. The feature values can always be calculated, for any email.\n",
    "2. Each email has an associated continuous score which is higher when there is a higher probability of the user replying to the email.\n",
    "3. If an email’s feature value changes by $x$, then its score will change by $weight \\times x$ for some fixed, continuous weight.\n",
    "\n",
    "In our flower case:\n",
    "\n",
    "1. The feature values can always be calculated, for any flower.\n",
    "2. Each flower has an associated continuous score which is higher when there is a higher probability of the flower being Setosa.\n",
    "3. If an flower's feature value changes by $x$, then its score will change by $weight \\times x$ for some fixed, continuous weight.\n",
    "\n",
    "Assumption 1 and 2 is just house keeping, but assumption 3 gives rise to:\n",
    "\n",
    "<p align=\"center\">\n",
    "    <img src='assets/assumption-3.jpg' width='300px'>\n",
    "</p>\n",
    "\n",
    "From MBML:\n",
    "> In drawing the factor graph, we’ve had to assume some prior distribution for weight. In this case, we have assumed that the weight is drawn from a Gaussian distribution with zero mean, so that it is equally likely to be positive or negative.\n",
    "\n",
    "Assumption 4 becomes: The weight for a feature is equally likely to be positive or negative.\n",
    "\n",
    "We might be tempted to do the following:\n",
    "\n",
    "<p align=\"center\">\n",
    "    <img src='assets/threshold.jpg' width='300px'>\n",
    "</p>\n",
    "\n",
    "Just add a threshold with a lot of variance centered around 0 and let the model go. However, MBML warns against this as any inference algorithm will fail trying to compute this model. The book gives the reason\n",
    "\n",
    "> Unfortunately, if we attempt to run inference on this model then any inference algorithm we try will fail. This is because some of the observed values have zero probability under the model. In other words, there is no way that the data-generating process encoded by our model could have generated the observed data values. When your data has zero probability under your model, it is a sure sign that the model is wrong!\n",
    "\n",
    "What this means, is there are some outliers appear to come from one side of the classification, but are really from the other class. Looking at our sepal length distribution below, we highlight which data points will have zero probability under the model.\n",
    "\n",
    "<p align=\"center\">\n",
    "    <img src='assets/sepal-length-dist-with-overlap.jpg' width='500px'>\n",
    "</p>\n",
    "\n",
    "As is common in MBML, to combat this, we add some noise to our observation's score calculation. In other words, we take the score that is generated by taking the product of the sepal length ($x$) and the weight ($w$) and we add some Gaussian noise by fixing the mean of a Gaussian random variable to the calculated score ($x \\times w$) with variance 10.\n",
    "\n",
    "So we get the following factor graph with added noise and we threshold the noisyScore using a random Gaussian variable with prior $\\mathcal{N}(0,10)$.\n",
    "\n",
    "<p align=\"center\">\n",
    "    <img src='assets/iris-classifier.jpg' width='300px'>\n",
    "</p>\n",
    "\n",
    "Coming to grips with factors graphs, their associated assumptions and how to navigate pitfalls like observed data having zero probability under a model is one part of the MBML journey. The next is converting the factor graph into working C# code using the inferDotNet package.\n"
   ]
  },
  {
   "cell_type": "markdown",
   "metadata": {},
   "source": [
    "### The C# Model Code"
   ]
  },
  {
   "cell_type": "markdown",
   "metadata": {},
   "source": [
    "The first piece of C# code in Program.cs is pure C# (no inferDotNet) and just reads in the CSV generated by this notebook:\n",
    "\n",
    "```C#\n",
    "string dataDir = args[0];\n",
    "string datasetFilename = dataDir+args[1];\n",
    "string[] lines = File.ReadAllLines(datasetFilename);\n",
    "bool[] isSetosaLabel = new bool[lines.Length];\n",
    "double[] featureVal = new double[lines.Length];\n",
    "\n",
    "for (int i = 0; i < lines.Length; i++)\n",
    "{\n",
    "    string[] strArray = lines[i].Split('|');\n",
    "    isSetosaLabel[i] = strArray[1] == \"1\";\n",
    "    featureVal[i] = float.Parse(strArray[0].Replace(\".\", \",\"));\n",
    "}\n",
    "```\n",
    "\n",
    "Next we create the model. \n",
    "\n",
    "We start by creating a `Range` variable from the `Microsoft.ML.Probabilistic.Models.Range` namespace that we alias as `Range`. We will use this range to iterate over all of our observations/flowers.\n",
    "\n",
    "```C#\n",
    "int numberOfFlowers = lines.Length;\n",
    "Range flower = new Range(numberOfFlowers).Named(\"flower\");\n",
    "```\n",
    "\n",
    "The next bit of inferDotNet code is to enure our range gets handled sequentially. This is a bit of an artifact from bringing across code from the email example as for email temporal consistency is preferred. For flowers' sepal lengths, maybe less so, but it can't hurt.\n",
    "\n",
    "```C#\n",
    "flower.AddAttribute(new Sequential());\n",
    "```\n",
    "\n",
    "Next we declare the variables in our factor graph within InferDotNet, i.e. all the rounded squares. We can use our `flower Range` along with `Variable.Array<T>` to create the variables for our feature $x$ and our label $y$.\n",
    "\n",
    "```C#\n",
    "// The feature - x\n",
    "VariableArray<double> featureValues = Variable.Array<double>(flower).Named(\"featureValue\").Attrib(new DoNotInfer());\n",
    "// The label - y\n",
    "VariableArray<bool> isSetosa = Variable.Array<bool>(flower).Named(\"isSetosa\");\n",
    "```\n",
    "\n",
    "For our random variables, weight and threshold, we initialise them using `Variable.GaussianFromMeanAndVariance`.\n",
    "\n",
    "```C#\n",
    "// The weight - w\n",
    "Variable<double> weight = Variable.GaussianFromMeanAndVariance(0,1).Named(\"weight\");     \n",
    "// The threshold\n",
    "Variable<double> threshold = Variable.GaussianFromMeanAndVariance(-5,10).Named(\"threshold\");\n",
    "```\n",
    "\n",
    "Next we can loop over our `flower Range` using `Variable.ForEach` and calculate the score, and consequently our noisyScore. We can then make our \"prediction\" by checking whether the noisy score is above or below our threshold. Something to note here is that the `Variable.ForEach` method takes a range as argument, and within the `using` block, that same variable, i.e. `flower`, is the iterating variable - this was a bit confusing to me and took some getting use to. So no counter variable `i` for a loop like `for(i=0, ...)`, instead just `using (Variable.ForEach(flower)){}` and you can use the `flower` variable inside the block.\n",
    "\n",
    "```C#\n",
    "using (Variable.ForEach(flower))\n",
    "{\n",
    "    var score = (featureValues[flower] * weight).Named(\"score\");\n",
    "\n",
    "    var noisyScore = Variable.GaussianFromMeanAndVariance(score, 10).Named(\"noisyScore\");\n",
    "    isSetosa[flower] = noisyScore > threshold;\n",
    "}\n",
    "```\n",
    "\n",
    "We've got two more steps to go before we've converted our factor graph into some code, setting our observed values and running inference. To observe values within InferDotNet we do the following:\n",
    "\n",
    "```C#\n",
    "isSetosa.ObservedValue = isSetosaLabel;\n",
    "featureValues.ObservedValue = featureVal;\n",
    "```\n",
    "\n",
    "Something to note here is that `isSetosa` and `featureValues` are our inferDotNet variables, whereas `isSetosaLabel` and `featureVal` are our vanilla C# arrays.\n",
    "\n",
    "The final bit in the puzzle is to run inference, i.e. let the energy flow our model and let the priors get updated with evidence - if there is any evidence. For this example we'll be using the `ExpectationPropagation` (EP) algorithm to do our message passing. Another option is to use `VariationalMessagePassing` (VMP), however this doesn't work for our current setup and my knowledge on these algorithms is still a bit vague at this stage to know why.\n",
    "\n",
    "```C#\n",
    "var InferenceEngine = new InferenceEngine(new ExpectationPropagation());\n",
    "InferenceEngine.NumberOfIterations = 50;\n",
    "```\n",
    "\n",
    "We can then infer our posterior weight and threshold Gaussians by running:\n",
    "\n",
    "```C#\n",
    "Gaussian postWeight = InferenceEngine.Infer<Gaussian>(weight);\n",
    "Gaussian postThreshold = InferenceEngine.Infer<Gaussian>(threshold);\n",
    "```\n",
    "\n",
    "To be able to get the results back into this notebook I use the following to create a CSV with the means and variances of our posterior Gaussians.\n",
    "\n",
    "```C#\n",
    "var results = new StringBuilder();\n",
    "\n",
    "results.AppendLine(\"variable;mean;variance\");\n",
    "var line = string.Format(\"postWeight;{0};{1}\", postWeight.GetMean(), postWeight.GetVariance());\n",
    "results.AppendLine(line.Replace(',', '.'));\n",
    "line = string.Format(\"postThreshold;{0};{1}\", postThreshold.GetMean(), postThreshold.GetVariance());\n",
    "results.AppendLine(line.Replace(',', '.'));\n",
    "\n",
    "File.WriteAllText(dataDir+\"results.csv\", results.ToString());\n",
    "```"
   ]
  },
  {
   "cell_type": "markdown",
   "metadata": {},
   "source": [
    "## Imports"
   ]
  },
  {
   "cell_type": "code",
   "execution_count": 1,
   "metadata": {
    "ExecuteTime": {
     "end_time": "2021-02-04T06:55:23.358972Z",
     "start_time": "2021-02-04T06:55:22.290182Z"
    }
   },
   "outputs": [],
   "source": [
    "import pandas as pd\n",
    "import matplotlib.pyplot as plt\n",
    "import seaborn as sns\n",
    "from pathlib import Path\n",
    "from sklearn.preprocessing import MinMaxScaler\n",
    "from scipy import special\n",
    "import numpy as np"
   ]
  },
  {
   "cell_type": "code",
   "execution_count": 2,
   "metadata": {
    "ExecuteTime": {
     "end_time": "2021-02-04T06:55:23.364840Z",
     "start_time": "2021-02-04T06:55:23.361338Z"
    }
   },
   "outputs": [],
   "source": [
    "# Gaussian CDF\n",
    "def cdf(x,mu,sig):\n",
    "    return 0.5*(1+special.erf((x-mu)/(sig*np.sqrt(2))))"
   ]
  },
  {
   "cell_type": "markdown",
   "metadata": {},
   "source": [
    "### Config"
   ]
  },
  {
   "cell_type": "code",
   "execution_count": 3,
   "metadata": {
    "ExecuteTime": {
     "end_time": "2021-02-04T06:55:23.374523Z",
     "start_time": "2021-02-04T06:55:23.367043Z"
    }
   },
   "outputs": [],
   "source": [
    "data_dir = Path('../data')\n",
    "input_dataset = data_dir/'iris.csv'\n",
    "output_dataset = data_dir/'iris-one-feature.csv'\n",
    "model_output = data_dir/'model-output.csv'"
   ]
  },
  {
   "cell_type": "markdown",
   "metadata": {},
   "source": [
    "### Data Acquisition"
   ]
  },
  {
   "cell_type": "code",
   "execution_count": 4,
   "metadata": {
    "ExecuteTime": {
     "end_time": "2021-02-04T06:55:23.385354Z",
     "start_time": "2021-02-04T06:55:23.376331Z"
    }
   },
   "outputs": [],
   "source": [
    "df = pd.read_csv(input_dataset)\n",
    "\n",
    "# We subset the data to only have Setosa and Virginica\n",
    "df_2_class = df[df['class'].\\\n",
    "    isin(['Iris-virginica', 'Iris-setosa'])].copy()"
   ]
  },
  {
   "cell_type": "code",
   "execution_count": 5,
   "metadata": {
    "ExecuteTime": {
     "end_time": "2021-02-04T06:55:23.405463Z",
     "start_time": "2021-02-04T06:55:23.386867Z"
    }
   },
   "outputs": [
    {
     "data": {
      "text/html": [
       "<div>\n",
       "<style scoped>\n",
       "    .dataframe tbody tr th:only-of-type {\n",
       "        vertical-align: middle;\n",
       "    }\n",
       "\n",
       "    .dataframe tbody tr th {\n",
       "        vertical-align: top;\n",
       "    }\n",
       "\n",
       "    .dataframe thead th {\n",
       "        text-align: right;\n",
       "    }\n",
       "</style>\n",
       "<table border=\"1\" class=\"dataframe\">\n",
       "  <thead>\n",
       "    <tr style=\"text-align: right;\">\n",
       "      <th></th>\n",
       "      <th>sepallength</th>\n",
       "      <th>sepalwidth</th>\n",
       "      <th>petallength</th>\n",
       "      <th>petalwidth</th>\n",
       "      <th>class</th>\n",
       "    </tr>\n",
       "  </thead>\n",
       "  <tbody>\n",
       "    <tr>\n",
       "      <th>25</th>\n",
       "      <td>5.0</td>\n",
       "      <td>3.0</td>\n",
       "      <td>1.6</td>\n",
       "      <td>0.2</td>\n",
       "      <td>Iris-setosa</td>\n",
       "    </tr>\n",
       "    <tr>\n",
       "      <th>26</th>\n",
       "      <td>5.0</td>\n",
       "      <td>3.4</td>\n",
       "      <td>1.6</td>\n",
       "      <td>0.4</td>\n",
       "      <td>Iris-setosa</td>\n",
       "    </tr>\n",
       "  </tbody>\n",
       "</table>\n",
       "</div>"
      ],
      "text/plain": [
       "    sepallength  sepalwidth  petallength  petalwidth        class\n",
       "25          5.0         3.0          1.6         0.2  Iris-setosa\n",
       "26          5.0         3.4          1.6         0.4  Iris-setosa"
      ]
     },
     "execution_count": 5,
     "metadata": {},
     "output_type": "execute_result"
    }
   ],
   "source": [
    "df_2_class.sample(2)"
   ]
  },
  {
   "cell_type": "code",
   "execution_count": 6,
   "metadata": {
    "ExecuteTime": {
     "end_time": "2021-02-04T06:55:23.875472Z",
     "start_time": "2021-02-04T06:55:23.407202Z"
    }
   },
   "outputs": [
    {
     "data": {
      "image/png": "[encoded data removed]",
      "text/plain": [
       "<Figure size 817.375x360 with 1 Axes>"
      ]
     },
     "metadata": {
      "needs_background": "light"
     },
     "output_type": "display_data"
    }
   ],
   "source": [
    "f = sns.displot(data=df_2_class,\n",
    "                x='sepallength',\n",
    "                aspect=2,\n",
    "                hue='class')\n",
    "plt.title('Sepal Length Distribution between Setosa and Virginica');"
   ]
  },
  {
   "cell_type": "code",
   "execution_count": 7,
   "metadata": {
    "ExecuteTime": {
     "end_time": "2021-02-04T06:55:23.885789Z",
     "start_time": "2021-02-04T06:55:23.879110Z"
    }
   },
   "outputs": [],
   "source": [
    "df_2_class.loc[df_2_class['class'] == 'Iris-setosa', 'is_setosa'] = 1\n",
    "df_2_class.loc[df_2_class['class'] == 'Iris-virginica', 'is_setosa'] =  0"
   ]
  },
  {
   "cell_type": "code",
   "execution_count": 8,
   "metadata": {
    "ExecuteTime": {
     "end_time": "2021-02-04T06:55:23.894566Z",
     "start_time": "2021-02-04T06:55:23.888536Z"
    }
   },
   "outputs": [],
   "source": [
    "# When scaling this go a bit weird - still need to figure out why\n",
    "from sklearn.preprocessing import StandardScaler\n",
    "# scaler = MinMaxScaler(feature_range=(-1,1))\n",
    "scaler = StandardScaler()\n",
    "df_2_class.sepallength = scaler.fit_transform(df_2_class.sepallength.values.reshape(-1,1)).flatten()"
   ]
  },
  {
   "cell_type": "code",
   "execution_count": 9,
   "metadata": {
    "ExecuteTime": {
     "end_time": "2021-02-04T06:55:23.905866Z",
     "start_time": "2021-02-04T06:55:23.896466Z"
    }
   },
   "outputs": [],
   "source": [
    "df_2_class[['sepallength', 'is_setosa']].\\\n",
    "to_csv(output_dataset,\n",
    "       header=False,\n",
    "       sep='|',\n",
    "       index=False)"
   ]
  },
  {
   "cell_type": "code",
   "execution_count": 10,
   "metadata": {
    "ExecuteTime": {
     "end_time": "2021-02-04T06:55:24.328965Z",
     "start_time": "2021-02-04T06:55:23.908821Z"
    }
   },
   "outputs": [
    {
     "data": {
      "image/png": "[encoded data removed]",
      "text/plain": [
       "<Figure size 817.375x360 with 1 Axes>"
      ]
     },
     "metadata": {
      "needs_background": "light"
     },
     "output_type": "display_data"
    }
   ],
   "source": [
    "f = sns.displot(data=df_2_class,\n",
    "                x='sepallength',\n",
    "                aspect=2,\n",
    "                hue='class')\n",
    "plt.title('Sepal Length Distribution between Setosa and Virginica');"
   ]
  },
  {
   "cell_type": "code",
   "execution_count": 11,
   "metadata": {
    "ExecuteTime": {
     "end_time": "2021-02-04T06:55:24.338336Z",
     "start_time": "2021-02-04T06:55:24.330626Z"
    }
   },
   "outputs": [
    {
     "data": {
      "text/plain": [
       "count    1.000000e+02\n",
       "mean     3.223810e-16\n",
       "std      1.005038e+00\n",
       "min     -1.591571e+00\n",
       "25%     -8.473494e-01\n",
       "50%     -1.031278e-01\n",
       "75%      7.474111e-01\n",
       "max      2.235854e+00\n",
       "Name: sepallength, dtype: float64"
      ]
     },
     "execution_count": 11,
     "metadata": {},
     "output_type": "execute_result"
    }
   ],
   "source": [
    "df_2_class.sepallength.describe()"
   ]
  },
  {
   "cell_type": "markdown",
   "metadata": {},
   "source": [
    "## Run Model"
   ]
  },
  {
   "cell_type": "code",
   "execution_count": 12,
   "metadata": {
    "ExecuteTime": {
     "end_time": "2021-02-04T06:55:24.346353Z",
     "start_time": "2021-02-04T06:55:24.341765Z"
    }
   },
   "outputs": [],
   "source": [
    "cmd = f'dotnet run --project ../models/model-1/ ../data/ iris-one-feature.csv'"
   ]
  },
  {
   "cell_type": "code",
   "execution_count": 13,
   "metadata": {
    "ExecuteTime": {
     "end_time": "2021-02-04T06:55:30.299147Z",
     "start_time": "2021-02-04T06:55:24.349331Z"
    }
   },
   "outputs": [
    {
     "name": "stdout",
     "output_type": "stream",
     "text": [
      "\u001b[?1h\u001b=\u001b[?1h\u001b=\u001b[?1h\u001b=\u001b[?1h\u001b=\u001b[?1h\u001b=\u001b[?1h\u001b=Compiling model...done.\n",
      "Iterating: \n",
      ".........|.........|.........|.........|.........| 50\n",
      "Gaussian(-4.304, 0.6735)\n",
      "Gaussian(0.05954, 1.55)\n",
      "\u001b[?1h\u001b="
     ]
    }
   ],
   "source": [
    "!{cmd}"
   ]
  },
  {
   "cell_type": "markdown",
   "metadata": {},
   "source": [
    "## Analyze Results"
   ]
  },
  {
   "cell_type": "code",
   "execution_count": 14,
   "metadata": {
    "ExecuteTime": {
     "end_time": "2021-02-04T06:55:30.317785Z",
     "start_time": "2021-02-04T06:55:30.301413Z"
    }
   },
   "outputs": [
    {
     "data": {
      "text/html": [
       "<div>\n",
       "<style scoped>\n",
       "    .dataframe tbody tr th:only-of-type {\n",
       "        vertical-align: middle;\n",
       "    }\n",
       "\n",
       "    .dataframe tbody tr th {\n",
       "        vertical-align: top;\n",
       "    }\n",
       "\n",
       "    .dataframe thead th {\n",
       "        text-align: right;\n",
       "    }\n",
       "</style>\n",
       "<table border=\"1\" class=\"dataframe\">\n",
       "  <thead>\n",
       "    <tr style=\"text-align: right;\">\n",
       "      <th></th>\n",
       "      <th>variable</th>\n",
       "      <th>mean</th>\n",
       "      <th>variance</th>\n",
       "    </tr>\n",
       "  </thead>\n",
       "  <tbody>\n",
       "    <tr>\n",
       "      <th>0</th>\n",
       "      <td>postWeight</td>\n",
       "      <td>-4.303792</td>\n",
       "      <td>0.673502</td>\n",
       "    </tr>\n",
       "    <tr>\n",
       "      <th>1</th>\n",
       "      <td>postThreshold</td>\n",
       "      <td>0.059541</td>\n",
       "      <td>1.550078</td>\n",
       "    </tr>\n",
       "  </tbody>\n",
       "</table>\n",
       "</div>"
      ],
      "text/plain": [
       "        variable      mean  variance\n",
       "0     postWeight -4.303792  0.673502\n",
       "1  postThreshold  0.059541  1.550078"
      ]
     },
     "execution_count": 14,
     "metadata": {},
     "output_type": "execute_result"
    }
   ],
   "source": [
    "df_results = pd.read_csv(data_dir/'results.csv', sep=';')\n",
    "df_results"
   ]
  },
  {
   "cell_type": "code",
   "execution_count": 15,
   "metadata": {
    "ExecuteTime": {
     "end_time": "2021-02-04T06:55:30.332602Z",
     "start_time": "2021-02-04T06:55:30.319624Z"
    }
   },
   "outputs": [
    {
     "data": {
      "text/plain": [
       "(-4.303792037209788,\n",
       " 0.6735017532659316,\n",
       " 0.05954110420455305,\n",
       " 1.55007823440973,\n",
       " 1.2450213790974554)"
      ]
     },
     "execution_count": 15,
     "metadata": {},
     "output_type": "execute_result"
    }
   ],
   "source": [
    "postWeightMean = df_results[df_results.variable == \"postWeight\"]['mean'].values[0]\n",
    "postWeightVariance = df_results[df_results.variable == \"postWeight\"]['variance'].values[0]\n",
    "postThresholdMean = df_results[df_results.variable == \"postThreshold\"]['mean'].values[0]\n",
    "postThresholdVariance = df_results[df_results.variable == \"postThreshold\"]['variance'].values[0]\n",
    "postThresholdStandardDev = np.sqrt(postThresholdVariance)\n",
    "postWeightMean, postWeightVariance, postThresholdMean, postThresholdVariance, postThresholdStandardDev"
   ]
  },
  {
   "cell_type": "code",
   "execution_count": 16,
   "metadata": {
    "ExecuteTime": {
     "end_time": "2021-02-04T06:55:30.339897Z",
     "start_time": "2021-02-04T06:55:30.334687Z"
    }
   },
   "outputs": [
    {
     "data": {
      "text/plain": [
       "(-3.547442566769047, -4.303792037209788)"
      ]
     },
     "execution_count": 16,
     "metadata": {},
     "output_type": "execute_result"
    }
   ],
   "source": [
    "sampledWeight = np.random.normal(postWeightMean, np.sqrt(postWeightVariance))\n",
    "sampledWeight, postWeightMean"
   ]
  },
  {
   "cell_type": "code",
   "execution_count": 17,
   "metadata": {
    "ExecuteTime": {
     "end_time": "2021-02-04T06:55:30.347466Z",
     "start_time": "2021-02-04T06:55:30.342508Z"
    }
   },
   "outputs": [],
   "source": [
    "df_2_class['score'] = df_2_class.sepallength * postWeightMean"
   ]
  },
  {
   "cell_type": "code",
   "execution_count": 18,
   "metadata": {
    "ExecuteTime": {
     "end_time": "2021-02-04T06:55:31.495382Z",
     "start_time": "2021-02-04T06:55:30.349664Z"
    }
   },
   "outputs": [
    {
     "data": {
      "image/png": "[encoded data removed]",
      "text/plain": [
       "<Figure size 1080x360 with 1 Axes>"
      ]
     },
     "metadata": {
      "needs_background": "light"
     },
     "output_type": "display_data"
    }
   ],
   "source": [
    "x_min_max = 20\n",
    "x = np.linspace(-1*x_min_max, x_min_max, 1000)\n",
    "fig = plt.figure(figsize=(15,5))\n",
    "\n",
    "for sigma in [postThresholdStandardDev* v for v in np.linspace(0.0001, 3, 4)]:\n",
    "    sig = str(round(sigma, 2))\n",
    "    mean = str(round(postThresholdMean, 2))\n",
    "    label = \"${\\\\mathcal {N}_{thresh}}(\"+mean+\",\"+sig+\")$\"\n",
    "    y = cdf(x, postThresholdMean, sigma)\n",
    "    plt.plot(x, y, label=label)\n",
    "\n",
    "sig = str(round(np.sqrt(postWeightVariance), 2))\n",
    "mean = str(round(postWeightMean, 2))\n",
    "plt.scatter(x=df_2_class.score,\n",
    "            y=df_2_class.is_setosa,\n",
    "            c=df_2_class.is_setosa.map({0:'red', \n",
    "                                        1:'green'}))\n",
    "plt.legend()\n",
    "plt.title(\"Noisy Scores with sampled weight $w=\"+str(round(sampledWeight,2))+\"$\"+\"\"\" from ${\\\\mathcal {N}_{weight}}(\"\"\"+mean+\",\"+sig+\")$\"+\"\"\"\n",
    "Along with the threshold CDFs for various sigma's\"\"\");"
   ]
  },
  {
   "cell_type": "code",
   "execution_count": null,
   "metadata": {},
   "outputs": [],
   "source": []
  },
  {
   "cell_type": "code",
   "execution_count": null,
   "metadata": {},
   "outputs": [],
   "source": []
  }
 ],
 "metadata": {
  "kernelspec": {
   "display_name": "Python 3",
   "language": "python",
   "name": "python3"
  },
  "language_info": {
   "codemirror_mode": {
    "name": "ipython",
    "version": 3
   },
   "file_extension": ".py",
   "mimetype": "text/x-python",
   "name": "python",
   "nbconvert_exporter": "python",
   "pygments_lexer": "ipython3",
   "version": "3.9.1"
  },
  "toc": {
   "base_numbering": 1,
   "nav_menu": {},
   "number_sections": true,
   "sideBar": true,
   "skip_h1_title": true,
   "title_cell": "Table of Contents",
   "title_sidebar": "Contents",
   "toc_cell": false,
   "toc_position": {},
   "toc_section_display": true,
   "toc_window_display": true
  }
 },
 "nbformat": 4,
 "nbformat_minor": 2
}
